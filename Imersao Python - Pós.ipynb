{
 "cells": [
  {
   "cell_type": "markdown",
   "metadata": {},
   "source": [
    "# Imersao Python\n",
    "\n",
    "## Uma breve introdução ao Python.\n",
    "\n",
    "Vamos conhecer todas as estruturas básicas da linguagem. Tudo o que é necessário para escrever programas minimamente úteis.\n",
    "\n",
    "## Tipos de dados\n",
    "\n",
    "Vamos dar \"olá\" para o mundo..."
   ]
  },
  {
   "cell_type": "code",
   "execution_count": 2,
   "metadata": {
    "scrolled": true
   },
   "outputs": [
    {
     "name": "stdout",
     "output_type": "stream",
     "text": [
      "Olá mundo!!\n"
     ]
    }
   ],
   "source": [
    "print(\"Olá mundo!!\")"
   ]
  },
  {
   "cell_type": "code",
   "execution_count": 7,
   "metadata": {},
   "outputs": [
    {
     "name": "stdout",
     "output_type": "stream",
     "text": [
      "Seja bem vindo à Imersão de Python!!\n"
     ]
    }
   ],
   "source": [
    "print(\"Seja bem vindo à Imersão de Python!!\")"
   ]
  },
  {
   "cell_type": "code",
   "execution_count": 8,
   "metadata": {},
   "outputs": [
    {
     "name": "stdout",
     "output_type": "stream",
     "text": [
      "Olá Téo!!\n"
     ]
    }
   ],
   "source": [
    "print('Olá Téo!!')"
   ]
  },
  {
   "cell_type": "code",
   "execution_count": 9,
   "metadata": {},
   "outputs": [
    {
     "name": "stdout",
     "output_type": "stream",
     "text": [
      "Muito obrigado, galera\n"
     ]
    }
   ],
   "source": [
    "print('''Muito obrigado, galera''')"
   ]
  },
  {
   "cell_type": "markdown",
   "metadata": {},
   "source": [
    "### Como pedir informação para o usuário??"
   ]
  },
  {
   "cell_type": "code",
   "execution_count": 12,
   "metadata": {},
   "outputs": [
    {
     "name": "stdout",
     "output_type": "stream",
     "text": [
      "Qual o seu nome? Téo Calvo\n",
      "Qual a sua idade? 28\n"
     ]
    }
   ],
   "source": [
    "nome = input(\"Qual o seu nome? \")\n",
    "idade = input(\"Qual a sua idade? \")"
   ]
  },
  {
   "cell_type": "code",
   "execution_count": 15,
   "metadata": {},
   "outputs": [
    {
     "name": "stdout",
     "output_type": "stream",
     "text": [
      "Téo Calvo\n",
      "28\n"
     ]
    }
   ],
   "source": [
    "print(nome)\n",
    "print(idade)"
   ]
  },
  {
   "cell_type": "code",
   "execution_count": 18,
   "metadata": {},
   "outputs": [
    {
     "name": "stdout",
     "output_type": "stream",
     "text": [
      "<class 'str'>\n",
      "<class 'str'>\n"
     ]
    }
   ],
   "source": [
    "print(type(idade))\n",
    "print(type(nome)) # str = string"
   ]
  },
  {
   "cell_type": "markdown",
   "metadata": {},
   "source": [
    "### Toda informação que é requisitada para usuário é do tipo STRING\n",
    "\n",
    "Ou seja, mesmo que o usuário coloque um número, o mesmo é tratado como texto. Assim que desejemos obter a idade do indivíduo, precisamos converter para INTEIRO."
   ]
  },
  {
   "cell_type": "code",
   "execution_count": 21,
   "metadata": {},
   "outputs": [
    {
     "name": "stdout",
     "output_type": "stream",
     "text": [
      "Qual sua idade? 28\n"
     ]
    }
   ],
   "source": [
    "idade = input(\"Qual sua idade? \")\n",
    "idade = int(idade)"
   ]
  },
  {
   "cell_type": "code",
   "execution_count": 22,
   "metadata": {},
   "outputs": [
    {
     "name": "stdout",
     "output_type": "stream",
     "text": [
      "Qual a sua idade?28\n"
     ]
    }
   ],
   "source": [
    "idade = int(input(\"Qual a sua idade?\"))"
   ]
  },
  {
   "cell_type": "code",
   "execution_count": 28,
   "metadata": {},
   "outputs": [
    {
     "name": "stdout",
     "output_type": "stream",
     "text": [
      "<class 'int'>\n",
      "<class 'str'>\n"
     ]
    }
   ],
   "source": [
    "print(type(idade))\n",
    "print(type(nome))"
   ]
  },
  {
   "cell_type": "markdown",
   "metadata": {},
   "source": [
    "## Abrindo o capô das Strings\n",
    "\n",
    "Strings são um conjunto de caracteres, sendo possível navegar por elas, fatiar, remover caracteres, etc...\n",
    "\n",
    "Strings possuem métodos e atributos, mas o que e isso? Uma pessoa, possui características e ações possíveis de serem executadas.\n",
    "\n",
    "Exemplo de atributos (características):\n",
    "\n",
    "- cor do cabelo\n",
    "- cor dos olhos\n",
    "- idade\n",
    "- sexo\n",
    "\n",
    "Exemplo de métodos (ações):\n",
    "\n",
    "- Viajar\n",
    "- Estudar\n",
    "- Pintar o cabelo\n",
    "\n",
    "Vamos conferrir isso nas strings?"
   ]
  },
  {
   "cell_type": "code",
   "execution_count": 48,
   "metadata": {},
   "outputs": [
    {
     "name": "stdout",
     "output_type": "stream",
     "text": [
      "Entre com o seu nome: Téo Calvo\n"
     ]
    }
   ],
   "source": [
    "nome = input(\"Entre com o seu nome: \")"
   ]
  },
  {
   "cell_type": "code",
   "execution_count": 30,
   "metadata": {},
   "outputs": [
    {
     "data": {
      "text/plain": [
       "str"
      ]
     },
     "execution_count": 30,
     "metadata": {},
     "output_type": "execute_result"
    }
   ],
   "source": [
    "type(nome)"
   ]
  },
  {
   "cell_type": "code",
   "execution_count": 68,
   "metadata": {
    "scrolled": true
   },
   "outputs": [
    {
     "name": "stdout",
     "output_type": "stream",
     "text": [
      "A primeira letra do nome é: T\n",
      "A segunda letra do nome é:  é\n",
      "A terceira letra do nome é: o\n",
      "A última letra do nome é: o\n",
      "A penúltima letra do nome é: v\n",
      "O nome 'Téo Calvo' tem 9 caracteres.\n"
     ]
    }
   ],
   "source": [
    "# Téo Calvo\n",
    "print(\"A primeira letra do nome é:\", nome[0])\n",
    "print(\"A segunda letra do nome é: \", nome[1])\n",
    "print(\"A terceira letra do nome é:\", nome[2])\n",
    "\n",
    "print(\"A última letra do nome é: \", nome[-1], sep=\"\")\n",
    "print(\"A penúltima letra do nome é: \", nome[-2], sep=\"\")\n",
    "\n",
    "print(\"O nome '\", nome, \"' tem \", len(nome), ' caracteres.', sep=\"\")"
   ]
  },
  {
   "cell_type": "code",
   "execution_count": 69,
   "metadata": {},
   "outputs": [
    {
     "name": "stdout",
     "output_type": "stream",
     "text": [
      "Entre com o seu nome: Nah Ataide\n",
      "A primeira letra do nome é: N\n",
      "A segunda letra do nome é:  a\n",
      "A terceira letra do nome é: h\n",
      "A última letra do nome é: e\n",
      "A penúltima letra do nome é: d\n",
      "O nome 'Nah Ataide' tem 10 caracteres.\n"
     ]
    }
   ],
   "source": [
    "nome_nah = input(\"Entre com o seu nome: \")\n",
    "\n",
    "# Nah Ataíde\n",
    "print(\"A primeira letra do nome é:\", nome_nah[0])\n",
    "print(\"A segunda letra do nome é: \", nome_nah[1])\n",
    "print(\"A terceira letra do nome é:\", nome_nah[2])\n",
    "\n",
    "print(\"A última letra do nome é: \", nome_nah[-1], sep=\"\")\n",
    "print(\"A penúltima letra do nome é: \", nome_nah[-2], sep=\"\")\n",
    "\n",
    "print(\"O nome '\", nome_nah, \"' tem \", len(nome_nah), ' caracteres.', sep=\"\")"
   ]
  },
  {
   "cell_type": "code",
   "execution_count": 86,
   "metadata": {},
   "outputs": [
    {
     "name": "stdout",
     "output_type": "stream",
     "text": [
      "Os três primeiros caracteres: Téo\n",
      "Os três primeiros caracteres: Téo\n",
      "Os três últimos caracteres: lvo\n",
      "Intercalando: ToClo\n",
      "Invertendo: ovlaC oéT\n",
      "Invertendo no passo largo: olCoT\n"
     ]
    }
   ],
   "source": [
    "print(\"Os três primeiros caracteres:\", nome[0:3]) # slice\n",
    "print(\"Os três primeiros caracteres:\", nome[:3]) # slice\n",
    "print(\"Os três últimos caracteres:\", nome[-3:]) # slice\n",
    "\n",
    "print(\"Intercalando:\",nome[::2])\n",
    "print(\"Invertendo:\",nome[::-1])\n",
    "print(\"Invertendo no passo largo:\", nome[::-2])\n",
    "\n",
    "# fim - inicio = range\n",
    "# 3 - 0 = 3"
   ]
  },
  {
   "cell_type": "code",
   "execution_count": 95,
   "metadata": {},
   "outputs": [],
   "source": [
    "# Métodos !!!!!\n",
    "nome_upper = nome.upper()\n",
    "nome_lower = nome.lower()\n",
    "nome_prim_upper = nome.capitalize()\n",
    "nome_title = nome_upper.title()"
   ]
  },
  {
   "cell_type": "code",
   "execution_count": 107,
   "metadata": {},
   "outputs": [
    {
     "name": "stdout",
     "output_type": "stream",
     "text": [
      "Téo Calvo termina com Calvo? True\n",
      "Lara Calvo termina com Calvo? True\n",
      "Nah Ataide termina com Calvo? False\n"
     ]
    }
   ],
   "source": [
    "# Ainda em métodos!!\n",
    "lara = \"Lara Calvo\"\n",
    "teo = \"Téo Calvo\"\n",
    "nah = \"Nah Ataide\"\n",
    "\n",
    "print(teo, \"termina com Calvo?\", teo.endswith(\"Calvo\"))\n",
    "print(lara, \"termina com Calvo?\", lara.endswith(\"Calvo\"))\n",
    "print(nah, \"termina com Calvo?\", nah.endswith(\"Calvo\"))"
   ]
  },
  {
   "cell_type": "code",
   "execution_count": 114,
   "metadata": {},
   "outputs": [
    {
     "name": "stdout",
     "output_type": "stream",
     "text": [
      "Téo Calvo\n",
      "C://FileFolder/dados.csv\n"
     ]
    }
   ],
   "source": [
    "# Concatenação\n",
    "nome_teo = \"Téo\" + \" \" + \"Calvo\"\n",
    "endereco_arquivo = \"C://FileFolder/\" + \"dados.csv\"\n",
    "\n",
    "print(nome_teo)\n",
    "print(endereco_arquivo)"
   ]
  },
  {
   "cell_type": "code",
   "execution_count": 119,
   "metadata": {},
   "outputs": [
    {
     "name": "stdout",
     "output_type": "stream",
     "text": [
      "Doa aeeewwww!!\n",
      "Doa aeeewwww!!\n",
      "Doa aeeewwww!!\n",
      "Doa aeeewwww!!\n",
      "Doa aeeewwww!!\n",
      "Doa aeeewwww!!\n",
      "Doa aeeewwww!!\n",
      "Doa aeeewwww!!\n",
      "Doa aeeewwww!!\n",
      "Doa aeeewwww!!\n",
      "\n"
     ]
    }
   ],
   "source": [
    "# Multiplicacao\n",
    "donate = \"Doa aeeewwww!!\\n\" * 10\n",
    "print(donate)"
   ]
  },
  {
   "cell_type": "code",
   "execution_count": 132,
   "metadata": {},
   "outputs": [
    {
     "name": "stdout",
     "output_type": "stream",
     "text": [
      "Entre com o seu nome: Téo Calvo\n",
      "Olá Téo Calvo. Tudo bem?\n",
      "Olá Téo Calvo. Tudo bem?\n",
      "Olá Téo Calvo. Tudo bem?\n",
      "Olá Téo Calvo. Tudo bem?\n",
      "Olá Téo Calvo. Tudo bem?\n",
      "Olá Téo Calvo. Tudo bem?\n",
      "Olá Téo Calvo. Tudo bem?\n",
      "Olá Téo Calvo. Tudo bem?\n",
      "Olá Téo Calvo. Tudo bem?\n",
      "Olá Téo Calvo. Tudo bem?\n",
      "\n"
     ]
    }
   ],
   "source": [
    "nome = input(\"Entre com o seu nome: \")\n",
    "\n",
    "print( (\"Olá \" + nome + \". Tudo bem?\\n\") * 10 )"
   ]
  },
  {
   "cell_type": "markdown",
   "metadata": {},
   "source": [
    "## Vamos para os números?\n",
    "\n",
    "Python pode servir de calculadora, por exemplo somar, dividir, exponenciar, módulo, etc...\n",
    "\n",
    "Lembrando que temos dois tipos básicos de numéricos: int e float.\n",
    "\n",
    "Adicionando ainda, os booleanos: True e False"
   ]
  },
  {
   "cell_type": "code",
   "execution_count": 144,
   "metadata": {},
   "outputs": [],
   "source": [
    "numA = 10\n",
    "numB = 20\n",
    "\n",
    "soma = numA + numB\n",
    "sub = numA - numB\n",
    "mult = numA * numB\n",
    "divisao = numA / numB\n",
    "resto = 5 % 2\n",
    "potencia = 10 ** 2\n",
    "raiz = 4 ** (1/2)"
   ]
  },
  {
   "cell_type": "code",
   "execution_count": 145,
   "metadata": {},
   "outputs": [
    {
     "name": "stdout",
     "output_type": "stream",
     "text": [
      "30\n",
      "-10\n",
      "200\n",
      "0.5\n",
      "1\n",
      "100\n",
      "2.0\n"
     ]
    }
   ],
   "source": [
    "print(soma)\n",
    "print(sub)\n",
    "print(mult)\n",
    "print(divisao)\n",
    "print(resto)\n",
    "print(potencia)\n",
    "print(raiz)"
   ]
  },
  {
   "cell_type": "code",
   "execution_count": null,
   "metadata": {},
   "outputs": [],
   "source": [
    "# inteiros\n",
    "# -1, 10, 2000000000000\n",
    "\n",
    "# float\n",
    "# -2.345, 8.76217356, 10.0000001, 1.0\n",
    "\n",
    "# Booleanos\n",
    "# True, False"
   ]
  },
  {
   "cell_type": "code",
   "execution_count": 154,
   "metadata": {},
   "outputs": [
    {
     "data": {
      "text/plain": [
       "12"
      ]
     },
     "execution_count": 154,
     "metadata": {},
     "output_type": "execute_result"
    }
   ],
   "source": [
    "True + True + 10"
   ]
  },
  {
   "cell_type": "code",
   "execution_count": 7,
   "metadata": {},
   "outputs": [],
   "source": [
    "# 1 + 1\n",
    "\n",
    "# 1 - 1\n",
    "\n",
    "# 1 / 1\n",
    "\n",
    "# 1 * 1\n",
    "\n",
    "# 1 % 1\n",
    "\n",
    "# 1 ** 1\n",
    "\n",
    "# True + True"
   ]
  },
  {
   "cell_type": "code",
   "execution_count": 155,
   "metadata": {},
   "outputs": [
    {
     "name": "stdout",
     "output_type": "stream",
     "text": [
      "Entre com seu nome: Téo\n",
      "Olá Téo! Seja bem vindo!\n"
     ]
    }
   ],
   "source": [
    "# Exercicio 01\n",
    "# Nome da pessoa na saudação\n",
    "\n",
    "nome = input(\"Entre com seu nome: \")\n",
    "print(\"Olá \", nome, \"! Seja bem vindo!\", sep=\"\")"
   ]
  },
  {
   "cell_type": "code",
   "execution_count": 157,
   "metadata": {},
   "outputs": [
    {
     "name": "stdout",
     "output_type": "stream",
     "text": [
      "Entre com o seu nome: Téo\n",
      "Entre com a sua idade: 28\n",
      "Olá Téo!! Que bom saber que você tem 28 anos. Seja bem vindo!\n"
     ]
    }
   ],
   "source": [
    "# Exercicio 2\n",
    "# Nome e idade da pessoa na saudação\n",
    "\n",
    "nome = input(\"Entre com o seu nome: \")\n",
    "idade = input(\"Entre com a sua idade: \")\n",
    "msg = f\"Olá {nome}!! Que bom saber que você tem {idade} anos. Seja bem vindo!\"\n",
    "print(msg)"
   ]
  },
  {
   "cell_type": "code",
   "execution_count": 164,
   "metadata": {},
   "outputs": [
    {
     "name": "stdout",
     "output_type": "stream",
     "text": [
      "Entre com o raio: 13\n",
      "Área: 530.66\n",
      "Área: 81.64\n"
     ]
    }
   ],
   "source": [
    "# Exercicio 3\n",
    "# Área e Perimetro\n",
    "\n",
    "raio = float(input(\"Entre com o raio: \"))\n",
    "area = 3.14 * raio * raio\n",
    "perimetro = round(2 * 3.14 * raio, 2)\n",
    "\n",
    "print(f\"Área: {area:.2f}\")\n",
    "print(f\"Área: {perimetro:.2f}\")"
   ]
  },
  {
   "cell_type": "markdown",
   "metadata": {},
   "source": [
    "## Tipos iteráveis\n",
    "\n",
    "Tipos iteráveis são tipos de dados que podemos de alguma forma iterar por eles. Mas o que diabos é iterar? Iterar é a possibilidade de criar iterações (loops) a partir de uma determinada condição lógica ou objeto a ser percorrido (iterado).\n",
    "\n",
    "Exemplo de iteráveis:\n",
    "\n",
    "- listas\n",
    "- tuplas\n",
    "- dicionários\n",
    "- range\n",
    "\n",
    "ps. Strings são iteráveis também.\n",
    "\n",
    "Vamos começar com listas...\n",
    "\n",
    "## Listas\n",
    "\n",
    "Listas são objetos que carregam (apontam) para um conjunto finito de quaiquer outros tipos de objetos. Pense me listas como vagões de trem que carregam uma determinada carga, onde cada um desses vagões pode conter tipos de carga totalmente diferentes. Ou seja, em um vagão pode haver minério, no outro madeira, e no outro conter pessoas."
   ]
  },
  {
   "cell_type": "code",
   "execution_count": 166,
   "metadata": {},
   "outputs": [
    {
     "name": "stdout",
     "output_type": "stream",
     "text": [
      "Entre com a nota1: 10\n",
      "Entre com a nota2: 9.3\n",
      "Entre com a nota3: 8.5\n",
      "Entre com a nota4: 4\n"
     ]
    }
   ],
   "source": [
    "nota1 = float(input(\"Entre com a nota1: \"))\n",
    "nota2 = float(input(\"Entre com a nota2: \"))\n",
    "nota3 = float(input(\"Entre com a nota3: \"))\n",
    "nota4 = float(input(\"Entre com a nota4: \"))"
   ]
  },
  {
   "cell_type": "code",
   "execution_count": 169,
   "metadata": {},
   "outputs": [],
   "source": [
    "llista_vazia = []\n",
    "notas = [nota1, nota2, nota3, nota4]"
   ]
  },
  {
   "cell_type": "code",
   "execution_count": 170,
   "metadata": {},
   "outputs": [
    {
     "name": "stdout",
     "output_type": "stream",
     "text": [
      "Primeira nota: 10.0\n",
      "Primeira segunda: 9.3\n",
      "Primeira terceira: 8.5\n",
      "Primeira quarta: 4.0\n"
     ]
    }
   ],
   "source": [
    "print(\"Primeira nota:\", notas[0])\n",
    "print(\"Primeira segunda:\", notas[1])\n",
    "print(\"Primeira terceira:\", notas[2])\n",
    "print(\"Primeira quarta:\", notas[3])"
   ]
  },
  {
   "cell_type": "code",
   "execution_count": 172,
   "metadata": {},
   "outputs": [
    {
     "data": {
      "text/plain": [
       "[9.3, 8.5]"
      ]
     },
     "execution_count": 172,
     "metadata": {},
     "output_type": "execute_result"
    }
   ],
   "source": [
    "notas[1:3]"
   ]
  },
  {
   "cell_type": "code",
   "execution_count": 228,
   "metadata": {},
   "outputs": [],
   "source": [
    "dados_teo = [\"Teo\", \"Calvo\", 28, \"Nah\", \"Kira\",\n",
    "             [\"Camis\", \"Jacque\"],\n",
    "             [\"Ana\", \"Maria\", \"Judite\", \"Clara\"] ]"
   ]
  },
  {
   "cell_type": "code",
   "execution_count": 229,
   "metadata": {},
   "outputs": [
    {
     "data": {
      "text/plain": [
       "7"
      ]
     },
     "execution_count": 229,
     "metadata": {},
     "output_type": "execute_result"
    }
   ],
   "source": [
    "len(dados_teo)"
   ]
  },
  {
   "cell_type": "code",
   "execution_count": 230,
   "metadata": {},
   "outputs": [
    {
     "data": {
      "text/plain": [
       "'Jacque'"
      ]
     },
     "execution_count": 230,
     "metadata": {},
     "output_type": "execute_result"
    }
   ],
   "source": [
    "# Ultima pessoa que lidero\n",
    "dados_teo[5][-1]"
   ]
  },
  {
   "cell_type": "code",
   "execution_count": 231,
   "metadata": {},
   "outputs": [
    {
     "data": {
      "text/plain": [
       "['Ana', 'Maria', 'Judite', 'Clara']"
      ]
     },
     "execution_count": 231,
     "metadata": {},
     "output_type": "execute_result"
    }
   ],
   "source": [
    "# Lista das Ex-namoradas\n",
    "dados_teo[-1]"
   ]
  },
  {
   "cell_type": "code",
   "execution_count": 234,
   "metadata": {},
   "outputs": [
    {
     "data": {
      "text/plain": [
       "'h'"
      ]
     },
     "execution_count": 234,
     "metadata": {},
     "output_type": "execute_result"
    }
   ],
   "source": [
    "# Ultima letra do nome da esposa\n",
    "dados_teo[3][-1]"
   ]
  },
  {
   "cell_type": "code",
   "execution_count": 233,
   "metadata": {},
   "outputs": [],
   "source": [
    "# Remove a coitada da Maria\n",
    "dados_teo[-1].remove(\"Maria\") # Altera a própria lista"
   ]
  },
  {
   "cell_type": "code",
   "execution_count": 217,
   "metadata": {},
   "outputs": [
    {
     "name": "stdout",
     "output_type": "stream",
     "text": [
      "Entre com sua nota: 10\n",
      "Entre com sua nota: 9.5\n",
      "Entre com sua nota: 8.4\n",
      "Entre com sua nota: 4.8\n",
      "Entre com sua nota: 10\n",
      "[10.0, 9.5, 8.4, 4.8, 10.0]\n",
      "8.174999999999999\n",
      "10.674999999999999\n",
      "8.54\n"
     ]
    }
   ],
   "source": [
    "# Como adicionar um elemento à listas\n",
    "\n",
    "notas = []\n",
    "n = float(input(\"Entre com sua nota: \"))\n",
    "notas.append(n)\n",
    "\n",
    "n = float(input(\"Entre com sua nota: \"))\n",
    "notas.append(n)\n",
    "\n",
    "n = float(input(\"Entre com sua nota: \"))\n",
    "notas.append(n)\n",
    "\n",
    "n = float(input(\"Entre com sua nota: \"))\n",
    "notas.append(n)\n",
    "\n",
    "n = float(input(\"Entre com sua nota: \"))\n",
    "notas.append(n)\n",
    "\n",
    "print(notas)\n",
    "\n",
    "print( (notas[0] + notas[1] + notas[2] + notas[3])/4 )\n",
    "print( sum(notas)/4 )\n",
    "print( sum(notas)/len(notas) )"
   ]
  },
  {
   "cell_type": "code",
   "execution_count": 242,
   "metadata": {},
   "outputs": [
    {
     "name": "stdout",
     "output_type": "stream",
     "text": [
      "[1, 2, 3, 4, 5, 6, 7, 8, 9, 10, 11, 12]\n"
     ]
    }
   ],
   "source": [
    "# LISTA SÃO OBJETOS MUTAVEIS!!!!\n",
    "numeros = [1,2,3]\n",
    "numeros = numeros + [4,5,6]\n",
    "numeros.extend([7,8,9]) # Isso altera a própria lista\n",
    "numeros += [10,11,12]\n",
    "print(numeros)"
   ]
  },
  {
   "cell_type": "code",
   "execution_count": 243,
   "metadata": {},
   "outputs": [],
   "source": [
    "# Inverte a ordem dos elementos da própria lista\n",
    "# Isso altera a própria lista\n",
    "numeros.reverse()"
   ]
  },
  {
   "cell_type": "code",
   "execution_count": 254,
   "metadata": {},
   "outputs": [
    {
     "data": {
      "text/plain": [
       "[30, 28, 'Calvo', 'Lara', 'Téo']"
      ]
     },
     "execution_count": 254,
     "metadata": {},
     "output_type": "execute_result"
    }
   ],
   "source": [
    "minha_lista = [\"Téo\", \"Lara\", \"Calvo\", 28, 30]\n",
    "minha_lista.reverse()\n",
    "minha_lista"
   ]
  },
  {
   "cell_type": "code",
   "execution_count": 255,
   "metadata": {},
   "outputs": [
    {
     "name": "stdout",
     "output_type": "stream",
     "text": [
      "O elemento Téo foi removido\n",
      "O elemento 30 foi removido\n"
     ]
    }
   ],
   "source": [
    "print(\"O elemento\", minha_lista.pop(), \"foi removido\")\n",
    "\n",
    "removido = minha_lista.pop(0)\n",
    "print(\"O elemento\", removido, \"foi removido\")"
   ]
  },
  {
   "cell_type": "code",
   "execution_count": 252,
   "metadata": {},
   "outputs": [],
   "source": [
    "# Isso é um reverse que retorna uma nova lista\n",
    "numeros_asc = numeros[::-1]"
   ]
  },
  {
   "cell_type": "code",
   "execution_count": 8,
   "metadata": {},
   "outputs": [],
   "source": [
    "# Exemplo de listas\n",
    "\n",
    "# Posição de um elemento\n",
    "\n",
    "# Concatenação de listas\n",
    "\n",
    "# Métodos de listas\n",
    "\n",
    "# Fatiamento"
   ]
  },
  {
   "cell_type": "markdown",
   "metadata": {},
   "source": [
    "## Tuplas\n",
    "\n",
    "### Maneira feia de definir tuplas:\n",
    "\n",
    "Tuplas são listas imutáveis. Mas o que e isso?"
   ]
  },
  {
   "cell_type": "code",
   "execution_count": 269,
   "metadata": {},
   "outputs": [
    {
     "data": {
      "text/plain": [
       "(1,)"
      ]
     },
     "execution_count": 269,
     "metadata": {},
     "output_type": "execute_result"
    }
   ],
   "source": [
    "tupla_unitaria = (1,)\n",
    "tupla_unitaria"
   ]
  },
  {
   "cell_type": "code",
   "execution_count": 271,
   "metadata": {},
   "outputs": [
    {
     "data": {
      "text/plain": [
       "(1, 2, 3, 4, 5, 6)"
      ]
     },
     "execution_count": 271,
     "metadata": {},
     "output_type": "execute_result"
    }
   ],
   "source": [
    "minha_tupla = (1,2,3,4,5)\n",
    "\n",
    "outra_tupla = 1,2,3,4,5,6\n",
    "outra_tupla"
   ]
  },
  {
   "cell_type": "code",
   "execution_count": 261,
   "metadata": {},
   "outputs": [
    {
     "data": {
      "text/plain": [
       "[1, 2, 3, 4, 5]"
      ]
     },
     "execution_count": 261,
     "metadata": {},
     "output_type": "execute_result"
    }
   ],
   "source": [
    "lista_da_tuplas = list(minha_tupla)\n",
    "lista_da_tupla"
   ]
  },
  {
   "cell_type": "code",
   "execution_count": 263,
   "metadata": {},
   "outputs": [
    {
     "data": {
      "text/plain": [
       "(1, 2, 3, 4, 5)"
      ]
     },
     "execution_count": 263,
     "metadata": {},
     "output_type": "execute_result"
    }
   ],
   "source": [
    "volta_tupla = tuple(lista_da_tuplas)\n",
    "volta_tupla"
   ]
  },
  {
   "cell_type": "code",
   "execution_count": 9,
   "metadata": {},
   "outputs": [],
   "source": [
    "# Exemplo de tuplas\n",
    "\n",
    "# Posição de um elemento\n",
    "\n",
    "# Concatenação de tuplas\n",
    "\n",
    "# Métodos de tuplas\n",
    "\n",
    "# Fatiamento"
   ]
  },
  {
   "cell_type": "markdown",
   "metadata": {},
   "source": [
    "## Dicionários\n",
    "\n",
    "Dicionários não estruturas de dados referentes à pares de chave/valor. Isso significa que vc atrela um valor a determinada chave, ao invés de uma posição, como no caso das listas e tuplas. Ressalto que o 'valor' pode ser qualquer tipo de objeto."
   ]
  },
  {
   "cell_type": "code",
   "execution_count": 317,
   "metadata": {},
   "outputs": [],
   "source": [
    "dados_teo = [\"Teo\", \"Calvo\", 28, \"Nah\", \"Kira\",\n",
    "             [\"Camis\", \"Jacque\"],\n",
    "             [\"Ana\", \"Maria\", \"Judite\", \"Clara\"] ]"
   ]
  },
  {
   "cell_type": "code",
   "execution_count": 339,
   "metadata": {},
   "outputs": [],
   "source": [
    "meu_dict = {'nome':\"Téo\",\n",
    "            \n",
    "            'sobrenome':\"Calvo\",\n",
    "            \n",
    "            'liderados(as)':[{\"nome\":\"Camis\",\"cargo\":\"DSIII\"},\n",
    "                             {\"nome\":\"Jacque\",\"cargo\":\"DSIII\"}],\n",
    "            \n",
    "            'exs':[{\"nome\":\"Ana\", \"ano\":2010},\n",
    "                   {\"nome\":\"Maria\",\"ano\":2008},\n",
    "                   {\"nome\":\"Judite\",\"ano\":2005},\n",
    "                   {\"nome\":\"Clara\",\"ano\":2004}]\n",
    "           }"
   ]
  },
  {
   "cell_type": "code",
   "execution_count": 340,
   "metadata": {},
   "outputs": [
    {
     "data": {
      "text/plain": [
       "'Ana'"
      ]
     },
     "execution_count": 340,
     "metadata": {},
     "output_type": "execute_result"
    }
   ],
   "source": [
    "meu_dict['exs'][0]['nome']"
   ]
  },
  {
   "cell_type": "code",
   "execution_count": 341,
   "metadata": {},
   "outputs": [
    {
     "data": {
      "text/plain": [
       "{'nome': 'Ana', 'ano': 2010}"
      ]
     },
     "execution_count": 341,
     "metadata": {},
     "output_type": "execute_result"
    }
   ],
   "source": [
    "# Removendo a Ana das Exs\n",
    "meu_dict['exs'].pop(0)"
   ]
  },
  {
   "cell_type": "code",
   "execution_count": 342,
   "metadata": {},
   "outputs": [
    {
     "data": {
      "text/plain": [
       "{'nome': 'Téo',\n",
       " 'sobrenome': 'Calvo',\n",
       " 'liderados(as)': [{'nome': 'Camis', 'cargo': 'DSIII'},\n",
       "  {'nome': 'Jacque', 'cargo': 'DSIII'}],\n",
       " 'exs': [{'nome': 'Maria', 'ano': 2008},\n",
       "  {'nome': 'Judite', 'ano': 2005},\n",
       "  {'nome': 'Clara', 'ano': 2004}]}"
      ]
     },
     "execution_count": 342,
     "metadata": {},
     "output_type": "execute_result"
    }
   ],
   "source": [
    "meu_dict"
   ]
  },
  {
   "cell_type": "code",
   "execution_count": 343,
   "metadata": {},
   "outputs": [
    {
     "data": {
      "text/plain": [
       "dict"
      ]
     },
     "execution_count": 343,
     "metadata": {},
     "output_type": "execute_result"
    }
   ],
   "source": [
    "type(meu_dict)"
   ]
  },
  {
   "cell_type": "code",
   "execution_count": 344,
   "metadata": {},
   "outputs": [
    {
     "data": {
      "text/plain": [
       "list"
      ]
     },
     "execution_count": 344,
     "metadata": {},
     "output_type": "execute_result"
    }
   ],
   "source": [
    "type(meu_dict['liderados(as)'])"
   ]
  },
  {
   "cell_type": "code",
   "execution_count": 345,
   "metadata": {},
   "outputs": [
    {
     "data": {
      "text/plain": [
       "{'nome': 'Maria', 'ano': 2008}"
      ]
     },
     "execution_count": 345,
     "metadata": {},
     "output_type": "execute_result"
    }
   ],
   "source": [
    "meu_dict['exs'][0]"
   ]
  },
  {
   "cell_type": "code",
   "execution_count": 346,
   "metadata": {},
   "outputs": [
    {
     "data": {
      "text/plain": [
       "dict"
      ]
     },
     "execution_count": 346,
     "metadata": {},
     "output_type": "execute_result"
    }
   ],
   "source": [
    "type(meu_dict)"
   ]
  },
  {
   "cell_type": "code",
   "execution_count": 347,
   "metadata": {},
   "outputs": [
    {
     "data": {
      "text/plain": [
       "{'nome': 'Téo',\n",
       " 'sobrenome': 'Calvo',\n",
       " 'liderados(as)': [{'nome': 'Camis', 'cargo': 'DSIII'},\n",
       "  {'nome': 'Jacque', 'cargo': 'DSIII'}]}"
      ]
     },
     "execution_count": 347,
     "metadata": {},
     "output_type": "execute_result"
    }
   ],
   "source": [
    "# removendo ex namoradas\n",
    "ex = meu_dict.pop(\"exs\")\n",
    "meu_dict"
   ]
  },
  {
   "cell_type": "code",
   "execution_count": 348,
   "metadata": {},
   "outputs": [
    {
     "data": {
      "text/plain": [
       "dict_keys(['nome', 'sobrenome', 'liderados(as)'])"
      ]
     },
     "execution_count": 348,
     "metadata": {},
     "output_type": "execute_result"
    }
   ],
   "source": [
    "# Quais são as chaves do meu dicionário?\n",
    "meu_dict.keys()"
   ]
  },
  {
   "cell_type": "code",
   "execution_count": 349,
   "metadata": {},
   "outputs": [
    {
     "data": {
      "text/plain": [
       "dict_values(['Téo', 'Calvo', [{'nome': 'Camis', 'cargo': 'DSIII'}, {'nome': 'Jacque', 'cargo': 'DSIII'}]])"
      ]
     },
     "execution_count": 349,
     "metadata": {},
     "output_type": "execute_result"
    }
   ],
   "source": [
    "# Quais são os valores?\n",
    "meu_dict.values()"
   ]
  },
  {
   "cell_type": "code",
   "execution_count": 350,
   "metadata": {},
   "outputs": [
    {
     "data": {
      "text/plain": [
       "dict_items([('nome', 'Téo'), ('sobrenome', 'Calvo'), ('liderados(as)', [{'nome': 'Camis', 'cargo': 'DSIII'}, {'nome': 'Jacque', 'cargo': 'DSIII'}])])"
      ]
     },
     "execution_count": 350,
     "metadata": {},
     "output_type": "execute_result"
    }
   ],
   "source": [
    "# Quais são os items?\n",
    "meu_dict.items()"
   ]
  },
  {
   "cell_type": "code",
   "execution_count": 351,
   "metadata": {},
   "outputs": [],
   "source": [
    "# Criando nova chave\n",
    "meu_dict['pet'] = 'Kira'"
   ]
  },
  {
   "cell_type": "code",
   "execution_count": 352,
   "metadata": {},
   "outputs": [],
   "source": [
    "meu_dict['liderados(as)'][0]['olhos'] = 'verdes'"
   ]
  },
  {
   "cell_type": "code",
   "execution_count": 357,
   "metadata": {},
   "outputs": [
    {
     "data": {
      "text/plain": [
       "'verdes'"
      ]
     },
     "execution_count": 357,
     "metadata": {},
     "output_type": "execute_result"
    }
   ],
   "source": [
    "meu_dict['liderados(as)'][0]['olhos']"
   ]
  },
  {
   "cell_type": "code",
   "execution_count": 358,
   "metadata": {},
   "outputs": [
    {
     "data": {
      "text/plain": [
       "{'nome': 'Téo',\n",
       " 'sobrenome': 'Calvo',\n",
       " 'liderados(as)': [{'nome': 'Camis', 'cargo': 'DSIII', 'olhos': 'verdes'},\n",
       "  {'nome': 'Jacque', 'cargo': 'DSIII'}],\n",
       " 'pet': 'Kira'}"
      ]
     },
     "execution_count": 358,
     "metadata": {},
     "output_type": "execute_result"
    }
   ],
   "source": [
    "meu_dict"
   ]
  },
  {
   "cell_type": "code",
   "execution_count": 359,
   "metadata": {},
   "outputs": [
    {
     "name": "stdout",
     "output_type": "stream",
     "text": [
      "Téo Kira\n"
     ]
    }
   ],
   "source": [
    "print(meu_dict['nome'], meu_dict['pet'])"
   ]
  },
  {
   "cell_type": "code",
   "execution_count": 360,
   "metadata": {},
   "outputs": [
    {
     "data": {
      "text/plain": [
       "{'nome': 'Téo',\n",
       " 'sobrenome': 'Calvo',\n",
       " 'liderados(as)': [{'nome': 'Camis', 'cargo': 'DSIII', 'olhos': 'verdes'},\n",
       "  {'nome': 'Jacque', 'cargo': 'DSIII'}],\n",
       " 'pet': 'Kira'}"
      ]
     },
     "execution_count": 360,
     "metadata": {},
     "output_type": "execute_result"
    }
   ],
   "source": [
    "meu_dict"
   ]
  },
  {
   "cell_type": "code",
   "execution_count": 10,
   "metadata": {},
   "outputs": [],
   "source": [
    "# Exemplo de dicionário\n",
    "\n",
    "# Valor de uma chave\n",
    "\n",
    "# Mostrar todas as chaves\n",
    "\n",
    "# Mostrar todos os valores"
   ]
  },
  {
   "cell_type": "markdown",
   "metadata": {},
   "source": [
    "## Funções\n",
    "\n",
    "Funções são nossas amigas para reaproveitar código. Assim, caso tenha algum tipo de execução que seja parecido, não é necessário escrever o mesmo código toda vez."
   ]
  },
  {
   "cell_type": "code",
   "execution_count": 11,
   "metadata": {},
   "outputs": [],
   "source": [
    "# f(x) = x**2 + 2 * x + 10"
   ]
  },
  {
   "cell_type": "code",
   "execution_count": 367,
   "metadata": {},
   "outputs": [],
   "source": [
    "def f(x):\n",
    "    resultado = x**2 + 2 * x + 10\n",
    "    return resultado"
   ]
  },
  {
   "cell_type": "code",
   "execution_count": 372,
   "metadata": {},
   "outputs": [],
   "source": [
    "minha_var = f(10)\n",
    "minha_var"
   ]
  },
  {
   "cell_type": "code",
   "execution_count": 369,
   "metadata": {},
   "outputs": [],
   "source": [
    "def ola():\n",
    "    print(\"Olá pessoal\")"
   ]
  },
  {
   "cell_type": "code",
   "execution_count": 374,
   "metadata": {},
   "outputs": [
    {
     "name": "stdout",
     "output_type": "stream",
     "text": [
      "Olá pessoal\n"
     ]
    }
   ],
   "source": [
    "nova_var = ola()"
   ]
  },
  {
   "cell_type": "code",
   "execution_count": 379,
   "metadata": {},
   "outputs": [
    {
     "data": {
      "text/plain": [
       "NoneType"
      ]
     },
     "execution_count": 379,
     "metadata": {},
     "output_type": "execute_result"
    }
   ],
   "source": [
    "type(nova_var)"
   ]
  },
  {
   "cell_type": "code",
   "execution_count": 382,
   "metadata": {},
   "outputs": [],
   "source": [
    "def saudacao(nome):\n",
    "    print(\"Olá \", nome, \". Seja bem vindo!!\",sep=\"\")"
   ]
  },
  {
   "cell_type": "code",
   "execution_count": 384,
   "metadata": {},
   "outputs": [
    {
     "name": "stdout",
     "output_type": "stream",
     "text": [
      "Olá Téo. Seja bem vindo!!\n",
      "Olá Mari. Seja bem vindo!!\n"
     ]
    }
   ],
   "source": [
    "saudacao(\"Téo\")\n",
    "saudacao(\"Mari\")"
   ]
  },
  {
   "cell_type": "code",
   "execution_count": 386,
   "metadata": {},
   "outputs": [
    {
     "name": "stdout",
     "output_type": "stream",
     "text": [
      "Entre com o seu nomeTéo Calvo\n",
      "Olá Téo Calvo. Seja bem vindo!!\n",
      "Entre com o seu nomeMari Lima\n",
      "Olá Mari Lima. Seja bem vindo!!\n"
     ]
    }
   ],
   "source": [
    "def saudacao(nome):\n",
    "    print(\"Olá \", nome, \". Seja bem vindo!!\",sep=\"\")\n",
    "    \n",
    "nome_pessoa = input(\"Entre com o seu nome\")\n",
    "saudacao(nome_pessoa)\n",
    "\n",
    "nome_pessoa = input(\"Entre com o seu nome\")\n",
    "saudacao(nome_pessoa)"
   ]
  },
  {
   "cell_type": "markdown",
   "metadata": {},
   "source": [
    "## Controle de Fluxo\n",
    "\n",
    "No python é possível alterar a sequencia de leitura das linhas, fazendo uso de 'funções' especiais para tal. Exemplo de operadores que alteram o fluxo de um programa:\n",
    "\n",
    "- if\n",
    "\n",
    "- elif\n",
    "\n",
    "- else\n",
    "\n",
    "- for\n",
    "\n",
    "- while\n",
    "\n",
    "- try\n",
    "\n",
    "Lembre-se que é obrigatório o uso de identação, 4 espaços são o padrão.\n",
    "\n",
    "### if, elif e else\n",
    "\n",
    "Tabelinha verdade, vocês viram em algebra elementar, certo?\n",
    "\n",
    "Então, verdade verdade => verdade ?\n",
    "\n",
    "Mesma coisa por aqui:\n",
    "\n",
    "if verdade => verdade e executamos\n",
    "\n",
    "else => executamos aqui"
   ]
  },
  {
   "cell_type": "code",
   "execution_count": 412,
   "metadata": {},
   "outputs": [
    {
     "data": {
      "text/plain": [
       "False"
      ]
     },
     "execution_count": 412,
     "metadata": {},
     "output_type": "execute_result"
    }
   ],
   "source": [
    "a = [\"téo\", \"calvo\"]\n",
    "b = [\"téo\", \"calvo\"]\n",
    "a is b"
   ]
  },
  {
   "cell_type": "code",
   "execution_count": 413,
   "metadata": {},
   "outputs": [
    {
     "data": {
      "text/plain": [
       "True"
      ]
     },
     "execution_count": 413,
     "metadata": {},
     "output_type": "execute_result"
    }
   ],
   "source": [
    "nome = \"Téo Calvo\"\n",
    "\"Calvo\" in nome"
   ]
  },
  {
   "cell_type": "code",
   "execution_count": 414,
   "metadata": {},
   "outputs": [
    {
     "data": {
      "text/plain": [
       "True"
      ]
     },
     "execution_count": 414,
     "metadata": {},
     "output_type": "execute_result"
    }
   ],
   "source": [
    "nums = [1,2,3,4,5,6]\n",
    "4 in nums"
   ]
  },
  {
   "cell_type": "code",
   "execution_count": 405,
   "metadata": {},
   "outputs": [
    {
     "name": "stdout",
     "output_type": "stream",
     "text": [
      "Entre com a sua idade: 15\n",
      "Vá para casa beber leite!\n"
     ]
    }
   ],
   "source": [
    "idade = int(input(\"Entre com a sua idade: \"))\n",
    "\n",
    "if idade >= 65:\n",
    "    print(\"Beba com calma, você já tem idade demais.\")\n",
    "\n",
    "elif idade >= 18:\n",
    "    print(\"Beba a vontade, só não perca a cabeça ou dirija!\")\n",
    "else:\n",
    "    print(\"Vá para casa beber leite!\")"
   ]
  },
  {
   "cell_type": "code",
   "execution_count": 432,
   "metadata": {},
   "outputs": [
    {
     "name": "stdout",
     "output_type": "stream",
     "text": [
      "Tente a sorte: 5\n",
      "Tente um número maior\n"
     ]
    }
   ],
   "source": [
    "# LOTERIA DA BABILONIA!!!\n",
    "num = 7\n",
    "palpite = int(input(\"Tente a sorte: \"))\n",
    "\n",
    "if palpite == num:\n",
    "    print(\"ACERTOU, MISERAVI!!\")\n",
    "elif palpite > num:\n",
    "    print(\"Tente um número menor\")\n",
    "else:\n",
    "    print(\"Tente um número maior\")"
   ]
  },
  {
   "cell_type": "code",
   "execution_count": 12,
   "metadata": {},
   "outputs": [],
   "source": [
    "# if\n",
    "\n",
    "# elif\n",
    "\n",
    "# else"
   ]
  },
  {
   "cell_type": "markdown",
   "metadata": {},
   "source": [
    "### Laços de repetição\n",
    "\n",
    "For percorre um iterável (iterador), ou seja, enquanto o iterador tiver valores para ser iterado, o laço for continua:"
   ]
  },
  {
   "cell_type": "code",
   "execution_count": 417,
   "metadata": {},
   "outputs": [
    {
     "name": "stdout",
     "output_type": "stream",
     "text": [
      "l\n",
      "a\n",
      "r\n",
      "a\n",
      "n\n",
      "j\n",
      "a\n"
     ]
    }
   ],
   "source": [
    "# string é iterável\n",
    "# listas é iterável\n",
    "# tuplas é iterável\n",
    "# dicionários é iteravel\n",
    "\n",
    "for f in \"laranja\":\n",
    "    print(f)"
   ]
  },
  {
   "cell_type": "code",
   "execution_count": 418,
   "metadata": {},
   "outputs": [
    {
     "name": "stdout",
     "output_type": "stream",
     "text": [
      "laranja\n",
      "limão\n",
      "maçã\n"
     ]
    }
   ],
   "source": [
    "frutas = ['laranja', 'limão', 'maçã']\n",
    "for f in frutas:\n",
    "    print(f)"
   ]
  },
  {
   "cell_type": "code",
   "execution_count": 423,
   "metadata": {},
   "outputs": [
    {
     "data": {
      "text/plain": [
       "[0, 1, 2, 3]"
      ]
     },
     "execution_count": 423,
     "metadata": {},
     "output_type": "execute_result"
    }
   ],
   "source": [
    "list(range(0,4))"
   ]
  },
  {
   "cell_type": "code",
   "execution_count": null,
   "metadata": {},
   "outputs": [],
   "source": [
    "# Como adicionar um elemento à listas\n",
    "\n",
    "notas = []\n",
    "n = float(input(\"Entre com sua nota: \"))\n",
    "notas.append(n)\n",
    "\n",
    "n = float(input(\"Entre com sua nota: \"))\n",
    "notas.append(n)\n",
    "\n",
    "n = float(input(\"Entre com sua nota: \"))\n",
    "notas.append(n)\n",
    "\n",
    "n = float(input(\"Entre com sua nota: \"))\n",
    "notas.append(n)\n",
    "\n",
    "print( sum(notas)/len(notas) )"
   ]
  },
  {
   "cell_type": "code",
   "execution_count": 431,
   "metadata": {},
   "outputs": [
    {
     "name": "stdout",
     "output_type": "stream",
     "text": [
      "Entre com sua nota: 10\n",
      "Entre com sua nota: 8.4\n",
      "Entre com sua nota: 9.5\n",
      "Entre com sua nota: 4.8\n",
      "Sua média é: 8.17\n"
     ]
    }
   ],
   "source": [
    "notas = []\n",
    "for i in range(4):\n",
    "    n = float(input(\"Entre com sua nota: \")) # recebe string e converte para numero real\n",
    "    notas.append(n) # Adiciona nota nova à lista de notas\n",
    "\n",
    "print(\"Sua média é: {0:.2f}\".format(sum(notas)/len(notas)))"
   ]
  },
  {
   "cell_type": "code",
   "execution_count": 7,
   "metadata": {
    "scrolled": true
   },
   "outputs": [
    {
     "name": "stdout",
     "output_type": "stream",
     "text": [
      "Tente a sorte: 7\n",
      "ACERTOU, MISERAVI!!\n"
     ]
    }
   ],
   "source": [
    "# LOTERIA DA BABILONIA!!!\n",
    "num = 7\n",
    "\n",
    "for i in range(3):\n",
    "    palpite = int(input(\"Tente a sorte: \"))\n",
    "    if palpite == num:\n",
    "        print(\"ACERTOU, MISERAVI!!\")\n",
    "        break\n",
    "    elif palpite > num:\n",
    "        print(\"Tente um número menor, restam\", 3-i-1, \"tentativas\")\n",
    "    else:\n",
    "        print(\"Tente um número maior, restam\", 3-i-1, \"tentativas\")\n",
    "else:\n",
    "    print(\"Errou tudo, otário!\")"
   ]
  },
  {
   "cell_type": "code",
   "execution_count": 8,
   "metadata": {},
   "outputs": [
    {
     "name": "stdout",
     "output_type": "stream",
     "text": [
      "3 é divisivel por 3\n",
      "6 é divisivel por 3\n",
      "9 é divisivel por 3\n",
      "12 é divisivel por 3\n",
      "15 é divisivel por 3\n",
      "18 é divisivel por 3\n",
      "21 é divisivel por 3\n",
      "24 é divisivel por 3\n",
      "27 é divisivel por 3\n",
      "30 é divisivel por 3\n",
      "33 é divisivel por 3\n",
      "36 é divisivel por 3\n",
      "39 é divisivel por 3\n",
      "42 é divisivel por 3\n",
      "45 é divisivel por 3\n",
      "48 é divisivel por 3\n",
      "51 é divisivel por 3\n",
      "54 é divisivel por 3\n",
      "57 é divisivel por 3\n",
      "60 é divisivel por 3\n",
      "63 é divisivel por 3\n",
      "66 é divisivel por 3\n",
      "69 é divisivel por 3\n",
      "72 é divisivel por 3\n",
      "75 é divisivel por 3\n",
      "78 é divisivel por 3\n",
      "81 é divisivel por 3\n",
      "84 é divisivel por 3\n",
      "87 é divisivel por 3\n",
      "90 é divisivel por 3\n",
      "93 é divisivel por 3\n",
      "96 é divisivel por 3\n",
      "99 é divisivel por 3\n"
     ]
    }
   ],
   "source": [
    "for i in range(1,101):\n",
    "    if i % 3 == 0:\n",
    "        print(i, \"é divisivel por 3\")"
   ]
  },
  {
   "cell_type": "code",
   "execution_count": 19,
   "metadata": {},
   "outputs": [],
   "source": [
    "board = [[\"_\"]*3]*3\n",
    "board[1][2] = \"X\""
   ]
  },
  {
   "cell_type": "code",
   "execution_count": 26,
   "metadata": {},
   "outputs": [],
   "source": [
    "a = [1,2,3]\n",
    "b = a.copy()"
   ]
  },
  {
   "cell_type": "code",
   "execution_count": 13,
   "metadata": {},
   "outputs": [
    {
     "name": "stdout",
     "output_type": "stream",
     "text": [
      "1\n",
      "2\n",
      "3\n",
      "4\n",
      "5\n",
      "6\n",
      "7\n",
      "8\n",
      "9\n",
      "10\n"
     ]
    }
   ],
   "source": [
    "count = 1\n",
    "while count <= 10:\n",
    "    print(count)\n",
    "    count += 1"
   ]
  },
  {
   "cell_type": "code",
   "execution_count": 29,
   "metadata": {},
   "outputs": [],
   "source": [
    "dados = {\"nome\":\"Téo\",\n",
    "        \"sobrenome\":\"Calvo\",\n",
    "        \"idade\":28}"
   ]
  },
  {
   "cell_type": "code",
   "execution_count": 34,
   "metadata": {},
   "outputs": [
    {
     "name": "stdout",
     "output_type": "stream",
     "text": [
      "Infelizmente essa pessoa não curte Pets\n"
     ]
    }
   ],
   "source": [
    "# Lidando com erros e excessoes\n",
    "\n",
    "try:\n",
    "    print(dados['pet'])\n",
    "except KeyError:\n",
    "    print(\"Infelizmente essa pessoa não curte Pets\")"
   ]
  },
  {
   "cell_type": "code",
   "execution_count": 52,
   "metadata": {},
   "outputs": [
    {
     "name": "stdout",
     "output_type": "stream",
     "text": [
      "Tente a sorte: 10\n",
      "Tente um número menor, restam 2 tentativas\n",
      "Tente a sorte: 6\n",
      "Tente um número maior, restam 1 tentativas\n",
      "Tente a sorte: 9\n",
      "Tente um número menor, restam 0 tentativas\n",
      "Errou tudo, otário!\n"
     ]
    }
   ],
   "source": [
    "# LOTERIA DA BABILONIA!!!\n",
    "\n",
    "def valida_entrada(msg):\n",
    "    numero = None\n",
    "    while numero is None:\n",
    "        try:\n",
    "            numero = int(input(msg))\n",
    "            return numero\n",
    "        except ValueError:\n",
    "            print(\"Entre com um número válido!\")\n",
    "\n",
    "num = 7\n",
    "\n",
    "for i in range(3):\n",
    "    palpite = valida_entrada(\"Tente a sorte: \")\n",
    "    if palpite == num:\n",
    "        print(\"ACERTOU, MISERAVI!!\")\n",
    "        break\n",
    "    elif palpite > num:\n",
    "        print(\"Tente um número menor, restam\", 3-i-1, \"tentativas\")\n",
    "    else:\n",
    "        print(\"Tente um número maior, restam\", 3-i-1, \"tentativas\")\n",
    "else:\n",
    "    print(\"Errou tudo, otário!\")"
   ]
  },
  {
   "cell_type": "code",
   "execution_count": 13,
   "metadata": {},
   "outputs": [],
   "source": [
    "# for i in [1,2,3]"
   ]
  },
  {
   "cell_type": "markdown",
   "metadata": {},
   "source": [
    "## Importação de bibliotecas\n",
    "\n",
    "É comum fazer uso de código opensource que não vem \"empacotado\" junto com o python, assim, você pode querer usar pacotes de terceiros como também criar seus próprios módulos e bibliotecas. Para fazer reuso de códigos é necessário importa-los."
   ]
  },
  {
   "cell_type": "code",
   "execution_count": 14,
   "metadata": {},
   "outputs": [],
   "source": [
    "# import time\n",
    "# import random"
   ]
  },
  {
   "cell_type": "code",
   "execution_count": 56,
   "metadata": {},
   "outputs": [],
   "source": [
    "import math # importa a biblioteca inteira!!!!"
   ]
  },
  {
   "cell_type": "code",
   "execution_count": 57,
   "metadata": {},
   "outputs": [
    {
     "data": {
      "text/plain": [
       "3.141592653589793"
      ]
     },
     "execution_count": 57,
     "metadata": {},
     "output_type": "execute_result"
    }
   ],
   "source": [
    "math.pi"
   ]
  },
  {
   "cell_type": "code",
   "execution_count": 58,
   "metadata": {},
   "outputs": [
    {
     "data": {
      "text/plain": [
       "6"
      ]
     },
     "execution_count": 58,
     "metadata": {},
     "output_type": "execute_result"
    }
   ],
   "source": [
    "math.factorial(3)"
   ]
  },
  {
   "cell_type": "code",
   "execution_count": 67,
   "metadata": {},
   "outputs": [],
   "source": [
    "from math import pi\n",
    "from math import factorial\n",
    "\n",
    "from math import e, exp"
   ]
  },
  {
   "cell_type": "code",
   "execution_count": 63,
   "metadata": {},
   "outputs": [
    {
     "data": {
      "text/plain": [
       "6"
      ]
     },
     "execution_count": 63,
     "metadata": {},
     "output_type": "execute_result"
    }
   ],
   "source": [
    "factorial(3)"
   ]
  },
  {
   "cell_type": "code",
   "execution_count": 61,
   "metadata": {},
   "outputs": [
    {
     "data": {
      "text/plain": [
       "3.141592653589793"
      ]
     },
     "execution_count": 61,
     "metadata": {},
     "output_type": "execute_result"
    }
   ],
   "source": [
    "pi"
   ]
  },
  {
   "cell_type": "code",
   "execution_count": 64,
   "metadata": {},
   "outputs": [],
   "source": [
    "from math import *  # isso não é legal!!!!"
   ]
  },
  {
   "cell_type": "code",
   "execution_count": 65,
   "metadata": {},
   "outputs": [
    {
     "data": {
      "text/plain": [
       "2.718281828459045"
      ]
     },
     "execution_count": 65,
     "metadata": {},
     "output_type": "execute_result"
    }
   ],
   "source": [
    "e"
   ]
  },
  {
   "cell_type": "code",
   "execution_count": 66,
   "metadata": {},
   "outputs": [
    {
     "data": {
      "text/plain": [
       "4.0"
      ]
     },
     "execution_count": 66,
     "metadata": {},
     "output_type": "execute_result"
    }
   ],
   "source": [
    "pow(2,2)"
   ]
  },
  {
   "cell_type": "code",
   "execution_count": 70,
   "metadata": {},
   "outputs": [
    {
     "name": "stdout",
     "output_type": "stream",
     "text": [
      "0\n",
      "1\n",
      "2\n",
      "3\n",
      "4\n",
      "5\n",
      "6\n",
      "7\n",
      "8\n",
      "9\n"
     ]
    }
   ],
   "source": [
    "import time\n",
    "\n",
    "for i in range(10):\n",
    "    print(i)\n",
    "    time.sleep(2)"
   ]
  },
  {
   "cell_type": "code",
   "execution_count": 104,
   "metadata": {},
   "outputs": [
    {
     "name": "stdout",
     "output_type": "stream",
     "text": [
      "Tente a sorte: 7\n",
      "Tente um número maior, restam 2 tentativas\n",
      "Tente a sorte: 9\n",
      "Tente um número maior, restam 1 tentativas\n",
      "Tente a sorte: 10\n",
      "Tente um número maior, restam 0 tentativas\n",
      "Errou tudo, otário! O número era: 13\n"
     ]
    }
   ],
   "source": [
    "# LOTERIA DA BABILONIA!!!\n",
    "\n",
    "import random\n",
    "\n",
    "def valida_entrada(msg):\n",
    "    numero = None\n",
    "    while numero is None:\n",
    "        try:\n",
    "            numero = int(input(msg))\n",
    "            return numero\n",
    "        except ValueError:\n",
    "            print(\"Entre com um número válido!\")\n",
    "\n",
    "num = random.randint(1,15)\n",
    "\n",
    "for i in range(3):\n",
    "    palpite = valida_entrada(\"Tente a sorte: \")\n",
    "    if palpite == num:\n",
    "        print(\"ACERTOU, MISERAVI!!\")\n",
    "        break\n",
    "    elif palpite > num:\n",
    "        print(\"Tente um número menor, restam\", 3-i-1, \"tentativas\")\n",
    "    else:\n",
    "        print(\"Tente um número maior, restam\", 3-i-1, \"tentativas\")\n",
    "else:\n",
    "    print(\"Errou tudo, otário! O número era:\", num)"
   ]
  }
 ],
 "metadata": {
  "file_extension": ".py",
  "kernelspec": {
   "display_name": "Python [conda env:twitch]",
   "language": "python",
   "name": "conda-env-twitch-py"
  },
  "language_info": {
   "codemirror_mode": {
    "name": "ipython",
    "version": 3
   },
   "file_extension": ".py",
   "mimetype": "text/x-python",
   "name": "python",
   "nbconvert_exporter": "python",
   "pygments_lexer": "ipython3",
   "version": "3.7.7"
  },
  "mimetype": "text/x-python",
  "name": "python",
  "npconvert_exporter": "python",
  "pygments_lexer": "ipython3",
  "version": 3
 },
 "nbformat": 4,
 "nbformat_minor": 2
}
